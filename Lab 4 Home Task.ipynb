{
 "cells": [
  {
   "cell_type": "code",
   "execution_count": 3,
   "id": "9577495b-7609-4c72-9287-eba10c3ae521",
   "metadata": {},
   "outputs": [
    {
     "name": "stdout",
     "output_type": "stream",
     "text": [
      "Accuracy: 0.6666666666666666\n",
      "\n",
      "Classification Report:\n",
      "               precision    recall  f1-score   support\n",
      "\n",
      "          No       1.00      0.50      0.67         2\n",
      "         Yes       0.50      1.00      0.67         1\n",
      "\n",
      "    accuracy                           0.67         3\n",
      "   macro avg       0.75      0.75      0.67         3\n",
      "weighted avg       0.83      0.67      0.67         3\n",
      "\n",
      "\n",
      "Predicted Class for new instance: ['No']\n"
     ]
    }
   ],
   "source": [
    "import pandas as pd\n",
    "from sklearn.model_selection import train_test_split\n",
    "from sklearn.naive_bayes import CategoricalNB\n",
    "from sklearn.preprocessing import LabelEncoder\n",
    "from sklearn.metrics import accuracy_score, classification_report\n",
    "\n",
    "data = {\n",
    "    'Weather': ['Cloudy', 'Cloudy', 'Sunny', 'Rainy', 'Rainy', 'Cloudy', 'Sunny', 'Cloudy', 'Rainy', 'Cloudy'],\n",
    "    'Temperature': ['Hot', 'Mild', 'Mild', 'Cool', 'Hot', 'Hot', 'Hot', 'Mild', 'Cool', 'Mild'],\n",
    "    'Play': ['Yes', 'Yes', 'No', 'No', 'Yes', 'No', 'Yes', 'Yes', 'No', 'Yes']\n",
    "}\n",
    "\n",
    "df = pd.DataFrame(data)\n",
    "le_weather = LabelEncoder()\n",
    "le_temperature = LabelEncoder()\n",
    "le_play = LabelEncoder()\n",
    "\n",
    "df['Weather_encoded'] = le_weather.fit_transform(df['Weather'])\n",
    "df['Temperature_encoded'] = le_temperature.fit_transform(df['Temperature'])\n",
    "df['Play_encoded'] = le_play.fit_transform(df['Play'])\n",
    "\n",
    "X = df[['Weather_encoded', 'Temperature_encoded']]\n",
    "y = df['Play_encoded']\n",
    "\n",
    "X_train, X_test, y_train, y_test = train_test_split(X, y, test_size=0.3, random_state=42)\n",
    "model = CategoricalNB()\n",
    "model.fit(X_train, y_train)\n",
    "\n",
    "y_pred = model.predict(X_test)\n",
    "accuracy = accuracy_score(y_test, y_pred)\n",
    "print(\"Accuracy:\", accuracy)\n",
    "\n",
    "print(\"\\nClassification Report:\\n\", classification_report(y_test, y_pred, target_names=le_play.classes_))\n",
    "\n",
    "new_instance = pd.DataFrame({'Weather': ['Rainy'], 'Temperature': ['Cool']})\n",
    "new_instance['Weather_encoded'] = le_weather.transform(new_instance['Weather'])\n",
    "new_instance['Temperature_encoded'] = le_temperature.transform(new_instance['Temperature'])\n",
    "\n",
    "new_X = new_instance[['Weather_encoded', 'Temperature_encoded']]\n",
    "predicted_class = model.predict(new_X)\n",
    "print(\"\\nPredicted Class for new instance:\", le_play.inverse_transform(predicted_class))"
   ]
  },
  {
   "cell_type": "code",
   "execution_count": null,
   "id": "8aa0ef15-1f58-4911-9348-9b75c337953d",
   "metadata": {},
   "outputs": [],
   "source": []
  }
 ],
 "metadata": {
  "kernelspec": {
   "display_name": "Python 3 (ipykernel)",
   "language": "python",
   "name": "python3"
  },
  "language_info": {
   "codemirror_mode": {
    "name": "ipython",
    "version": 3
   },
   "file_extension": ".py",
   "mimetype": "text/x-python",
   "name": "python",
   "nbconvert_exporter": "python",
   "pygments_lexer": "ipython3",
   "version": "3.12.4"
  }
 },
 "nbformat": 4,
 "nbformat_minor": 5
}
