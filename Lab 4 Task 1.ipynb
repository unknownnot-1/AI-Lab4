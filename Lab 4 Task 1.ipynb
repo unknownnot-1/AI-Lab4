{
 "cells": [
  {
   "cell_type": "code",
   "execution_count": 1,
   "id": "3648a135-02b0-4410-a154-b3bfc3917866",
   "metadata": {},
   "outputs": [
    {
     "name": "stdout",
     "output_type": "stream",
     "text": [
      "Prediction: [0 1 0]\n",
      "Confusion Matrix:\n",
      " [[1 0]\n",
      " [1 1]]\n",
      "Accuracy: 0.6666666666666666\n",
      "Calculated Accuracy: 0.67 or 66.67%\n"
     ]
    }
   ],
   "source": [
    "import pandas as pd\n",
    "from sklearn import preprocessing\n",
    "from sklearn.naive_bayes import GaussianNB\n",
    "from sklearn.metrics import confusion_matrix, accuracy_score\n",
    "from sklearn.model_selection import train_test_split\n",
    "\n",
    "data = {\n",
    "    'Weather': ['Sunny', 'Sunny', 'Overcast', 'Rainy', 'Rainy', 'Rainy', \n",
    "                'Overcast', 'Sunny', 'Sunny', 'Rainy', 'Sunny', 'Overcast', \n",
    "                'Overcast', 'Rainy'],\n",
    "    'Temperature': ['Hot', 'Hot', 'Hot', 'Mild', 'Cool', 'Cool', 'Cool', \n",
    "                    'Mild', 'Cool', 'Mild', 'Mild', 'Mild', 'Hot', 'Mild'],\n",
    "    'Play': ['No', 'No', 'Yes', 'Yes', 'Yes', 'No', 'Yes', 'No', 'Yes', \n",
    "             'Yes', 'Yes', 'Yes', 'Yes', 'No']\n",
    "}\n",
    "\n",
    "df = pd.DataFrame(data)\n",
    "le = preprocessing.LabelEncoder()\n",
    "\n",
    "df['Weather'] = le.fit_transform(df['Weather'].str.lower())\n",
    "df['Temperature'] = le.fit_transform(df['Temperature'])\n",
    "df['Play'] = le.fit_transform(df['Play'])\n",
    "\n",
    "features = list(zip(df['Weather'], df['Temperature']))\n",
    "features_train, features_test, label_train, label_test = train_test_split(\n",
    "    features, df['Play'], test_size=0.2, random_state=42\n",
    ")\n",
    "\n",
    "model = GaussianNB()\n",
    "model.fit(features_train, label_train)\n",
    "predicted = model.predict(features_test)\n",
    "\n",
    "print(\"Prediction:\", predicted)\n",
    "cm = confusion_matrix(label_test, predicted)\n",
    "print(\"Confusion Matrix:\\n\", cm)\n",
    "\n",
    "accuracy = accuracy_score(label_test, predicted)\n",
    "print(\"Accuracy:\", accuracy)\n",
    "\n",
    "TP = cm[1][1]\n",
    "TN = cm[0][0]\n",
    "FP = cm[0][1]\n",
    "FN = cm[1][0]\n",
    "\n",
    "if (TP + TN + FP + FN) > 0:\n",
    "    calculated_accuracy = (TP + TN) / (TP + TN + FP + FN)\n",
    "    print(f\"Calculated Accuracy: {calculated_accuracy:.2f} or {calculated_accuracy * 100:.2f}%\")"
   ]
  },
  {
   "cell_type": "code",
   "execution_count": null,
   "id": "37c22b68-8190-4021-bd61-ad256c4a4aed",
   "metadata": {},
   "outputs": [],
   "source": []
  }
 ],
 "metadata": {
  "kernelspec": {
   "display_name": "Python 3 (ipykernel)",
   "language": "python",
   "name": "python3"
  },
  "language_info": {
   "codemirror_mode": {
    "name": "ipython",
    "version": 3
   },
   "file_extension": ".py",
   "mimetype": "text/x-python",
   "name": "python",
   "nbconvert_exporter": "python",
   "pygments_lexer": "ipython3",
   "version": "3.12.4"
  }
 },
 "nbformat": 4,
 "nbformat_minor": 5
}
