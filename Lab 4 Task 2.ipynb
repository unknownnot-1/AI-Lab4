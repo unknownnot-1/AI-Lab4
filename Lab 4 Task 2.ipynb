{
 "cells": [
  {
   "cell_type": "code",
   "execution_count": 1,
   "id": "cd14e7dc-6088-4294-a4b7-6208383a745b",
   "metadata": {},
   "outputs": [
    {
     "name": "stdout",
     "output_type": "stream",
     "text": [
      "Prediction: Will the person buy a computer? Yes\n"
     ]
    }
   ],
   "source": [
    "import pandas as pd\n",
    "from sklearn.naive_bayes import GaussianNB\n",
    "\n",
    "data = {\n",
    "    'age': ['youth', 'youth', 'middle_aged', 'senior', 'senior', 'senior',\n",
    "            'middle_aged', 'youth', 'youth', 'senior', 'youth', 'middle_aged',\n",
    "            'middle_aged', 'senior'],\n",
    "    'income': ['high', 'high', 'high', 'medium', 'low', 'low',\n",
    "               'low', 'medium', 'low', 'medium', 'medium', 'medium',\n",
    "               'high', 'medium'],\n",
    "    'student': ['no', 'no', 'no', 'no', 'yes', 'yes',\n",
    "                'yes', 'no', 'yes', 'yes', 'yes', 'no',\n",
    "                'yes', 'no'],\n",
    "    'credit_rating': ['fair', 'excellent', 'fair', 'fair', 'fair', 'excellent',\n",
    "                      'excellent', 'fair', 'fair', 'fair', 'excellent', 'excellent',\n",
    "                      'fair', 'excellent'],\n",
    "    'buys_computer': ['no', 'no', 'yes', 'yes', 'yes', 'no',\n",
    "                      'yes', 'no', 'yes', 'yes', 'yes', 'yes',\n",
    "                      'yes', 'no']\n",
    "}\n",
    "\n",
    "df = pd.DataFrame(data)\n",
    "\n",
    "df['age'] = df['age'].astype('category').cat.codes\n",
    "df['income'] = df['income'].astype('category').cat.codes\n",
    "df['student'] = df['student'].astype('category').cat.codes\n",
    "df['credit_rating'] = df['credit_rating'].astype('category').cat.codes\n",
    "df['buys_computer'] = df['buys_computer'].map({'no': 0, 'yes': 1})\n",
    "\n",
    "X = df[['age', 'income', 'student', 'credit_rating']]\n",
    "y = df['buys_computer']\n",
    "\n",
    "model = GaussianNB()\n",
    "model.fit(X, y)\n",
    "\n",
    "prediction_input = pd.DataFrame([[2, 1, 1, 0]], columns=['age', 'income', 'student', 'credit_rating'])\n",
    "prediction = model.predict(prediction_input)\n",
    "result = \"Yes\" if prediction[0] == 1 else \"No\"\n",
    "print(f\"Prediction: Will the person buy a computer? {result}\")"
   ]
  },
  {
   "cell_type": "code",
   "execution_count": null,
   "id": "a58508b7-e221-4c41-a838-a1bdabf1aa25",
   "metadata": {},
   "outputs": [],
   "source": []
  }
 ],
 "metadata": {
  "kernelspec": {
   "display_name": "Python 3 (ipykernel)",
   "language": "python",
   "name": "python3"
  },
  "language_info": {
   "codemirror_mode": {
    "name": "ipython",
    "version": 3
   },
   "file_extension": ".py",
   "mimetype": "text/x-python",
   "name": "python",
   "nbconvert_exporter": "python",
   "pygments_lexer": "ipython3",
   "version": "3.12.4"
  }
 },
 "nbformat": 4,
 "nbformat_minor": 5
}
